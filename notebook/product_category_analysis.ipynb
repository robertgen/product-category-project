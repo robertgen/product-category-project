{
  "nbformat": 4,
  "nbformat_minor": 0,
  "metadata": {
    "colab": {
      "provenance": [],
      "authorship_tag": "ABX9TyMDvZA3HTA0tw7anh1XmR41",
      "include_colab_link": true
    },
    "kernelspec": {
      "name": "python3",
      "display_name": "Python 3"
    },
    "language_info": {
      "name": "python"
    }
  },
  "cells": [
    {
      "cell_type": "markdown",
      "metadata": {
        "id": "view-in-github",
        "colab_type": "text"
      },
      "source": [
        "<a href=\"https://colab.research.google.com/github/robertgen/product-category-project/blob/main/notebook/product_category_analysis.ipynb\" target=\"_parent\"><img src=\"https://colab.research.google.com/assets/colab-badge.svg\" alt=\"Open In Colab\"/></a>"
      ]
    },
    {
      "cell_type": "markdown",
      "source": [
        "# 📝 Task 3 - Identificarea categoriei produselor prin denumirea lor\n",
        "# 👤 Nume student: Popescu Robert - Stefan\n"
      ],
      "metadata": {
        "id": "pdmjlXtrPwh4"
      }
    },
    {
      "cell_type": "code",
      "execution_count": null,
      "metadata": {
        "id": "ttzKQeIZPm4n"
      },
      "outputs": [],
      "source": []
    }
  ]
}